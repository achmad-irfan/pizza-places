{
 "cells": [
  {
   "cell_type": "code",
   "execution_count": 1,
   "id": "4306e8a5",
   "metadata": {},
   "outputs": [],
   "source": [
    "import dash\n",
    "from dash import html\n",
    "from dash import dash_table\n",
    "from dash import dcc\n",
    "import pandas as pd\n",
    "import plotly.express as px\n",
    "import plotly.graph_objects as go\n",
    "import dash_bootstrap_components as dbc\n",
    "from dash.dependencies import Input, Output"
   ]
  },
  {
   "cell_type": "code",
   "execution_count": 2,
   "id": "750fc80d",
   "metadata": {},
   "outputs": [],
   "source": [
    "app= dash.Dash()"
   ]
  },
  {
   "cell_type": "code",
   "execution_count": 3,
   "id": "9e0e7622",
   "metadata": {},
   "outputs": [],
   "source": [
    "data_merge = pd.read_csv('data_merge.csv')\n",
    "data_merge['date']=pd.to_datetime(data_merge['date'])\n",
    "data_merge['time']=pd.to_datetime(data_merge['time'])\n",
    "data_merge['bulan']=data_merge['date'].dt.strftime(\"%Y-%m\")\n",
    "data_merge['hours']=data_merge['time'].dt.strftime(\"%H\")\n",
    "data_merge['revenue']=data_merge['quantity']*data_merge['price']\n",
    "data_merge['hours']=pd.to_numeric(data_merge['hours'])"
   ]
  },
  {
   "cell_type": "code",
   "execution_count": 4,
   "id": "3685e69d",
   "metadata": {},
   "outputs": [],
   "source": [
    "options_size = data_merge['size'].unique().tolist()\n",
    "options_type = data_merge['pizza_type_id'].unique().tolist()\n",
    "options_month= data_merge['bulan'].unique().tolist()\n",
    "options_hour= data_merge['hours'].unique().tolist()"
   ]
  },
  {
   "cell_type": "code",
   "execution_count": 5,
   "id": "5d30e8a0",
   "metadata": {},
   "outputs": [],
   "source": [
    "def generate_chart(data, x_column, y_column, chart_type):\n",
    "    if chart_type == 'bar':\n",
    "        fig = px.bar(data_frame=data, x=x_column, y=y_column,text_auto=True)\n",
    "        fig.update_layout(xaxis={'tickangle': 60},yaxis_title=None)\n",
    "        fig.update_traces(textfont_size=12, textangle=0, textposition=\"outside\", cliponaxis=False)\n",
    "    elif chart_type == 'scatter':\n",
    "        fig = px.scatter(data_frame=data, x=x_column, y=y_column)\n",
    "    elif chart_type == 'line':\n",
    "        fig = px.line(data_frame=data, x=x_column, y=y_column)\n",
    "        fig.update_layout(xaxis={'tickangle': 60},yaxis_title=None)\n",
    "    elif chart_type == 'pie':\n",
    "        fig= px.pie(data_frame=data, values=x_column,names=y_column)\n",
    "    else:\n",
    "        raise ValueError(\"Invalid chart type. Please choose 'bar', 'scatter', or 'line'.\")\n",
    "    fig.update_layout(width=640, height=410, title={'x':0.5},title_font=dict(size=30),\n",
    "                      xaxis_title=None,xaxis={'categoryorder':'category ascending'})\n",
    "    return fig"
   ]
  },
  {
   "cell_type": "code",
   "execution_count": 6,
   "id": "d53f7136",
   "metadata": {},
   "outputs": [],
   "source": [
    "fig1= generate_chart(data_merge, data_merge['bulan'].unique(),\n",
    "                     data_merge.groupby('bulan')['order_id'].count().reset_index()['order_id'],'line')\n",
    "fig2= generate_chart(data_merge, data_merge['hours'].unique(),\n",
    "                     data_merge.groupby('hours')['order_id'].count().reset_index()['order_id'],'bar')\n",
    "fig3= generate_chart(data_merge, data_merge['pizza_type_id'].unique(),\n",
    "                     data_merge.groupby('pizza_type_id')['quantity'].sum().reset_index()['quantity'],'bar')\n",
    "fig4= generate_chart(data_merge, \n",
    "                     data_merge.groupby('size')['revenue'].sum().reset_index()['revenue'],data_merge['size'].unique(),'pie')\n",
    "fig5= generate_chart(data_merge, data_merge['pizza_type_id'].unique(),\n",
    "                     data_merge.groupby('pizza_type_id')['revenue'].sum().reset_index()['revenue'],'bar')\n",
    "fig6= generate_chart(data_merge, data_merge['bulan'].unique(),\n",
    "                     data_merge.groupby('bulan')['revenue'].sum().reset_index()['revenue'],'bar')"
   ]
  },
  {
   "cell_type": "code",
   "execution_count": 7,
   "id": "7ea0f01a",
   "metadata": {},
   "outputs": [],
   "source": [
    "title= html.Div([html.H1('PIZZA PLACES DASHBOARD',\n",
    "                style={'background-color': 'Gainsboro','outline':'10px','font-size':'68px','text-align':'center'})])"
   ]
  },
  {
   "cell_type": "code",
   "execution_count": 8,
   "id": "bd8a6a67",
   "metadata": {},
   "outputs": [],
   "source": [
    "radioitem= dcc.RadioItems(['Size','Month','Hour','Type'],'Size', id='radiobutton',\n",
    "                          style={'font-size':'30px', 'margin-bottom':'40px', \n",
    "                                 'input': {'width': '100px', 'height': '100px','margin-bottom':'10px'}})"
   ]
  },
  {
   "cell_type": "code",
   "execution_count": 9,
   "id": "b3dd5501",
   "metadata": {},
   "outputs": [],
   "source": [
    "dropdown= dcc.Dropdown([{'label':name ,'value': name} for name in options_size],value=None,id='iddropdown',multi=True, \n",
    "                       placeholder='Please Choose',\n",
    "                       style={'height':'50px','fontSize': '24px'})"
   ]
  },
  {
   "cell_type": "code",
   "execution_count": 10,
   "id": "8763b565",
   "metadata": {},
   "outputs": [],
   "source": [
    "graph = html.Div(children=[\n",
    "    html.Div([\n",
    "        html.Div([\n",
    "            dcc.Graph(id='example-graph1', figure=fig1),\n",
    "            dcc.Graph(id='example-graph2', figure=fig2)\n",
    "        ]),\n",
    "        html.Div([\n",
    "            dcc.Graph(id='example-graph3', figure=fig3),\n",
    "            dcc.Graph(id='example-graph4', figure=fig4)\n",
    "        ]),\n",
    "        html.Div([\n",
    "            dcc.Graph(id='example-graph5', figure=fig5),\n",
    "            dcc.Graph(id='example-graph6', figure=fig6)\n",
    "        ]),\n",
    "    ], style={'display': 'flex'})\n",
    "],style={'float': 'right','width': '86%','outline': '4px solid black','padding': '5px','background':'Gainsboro'})"
   ]
  },
  {
   "cell_type": "code",
   "execution_count": 11,
   "id": "57291a56",
   "metadata": {},
   "outputs": [],
   "source": [
    "menu = html.Div(\n",
    "    children=[\n",
    "        html.H2('FILTERS', style={'font-size':'42px','text-align':'center'}),\n",
    "        radioitem,\n",
    "        dropdown,\n",
    "        html.H1(''),\n",
    "        html.H1(''),\n",
    "        html.H1(''),\n",
    "        html.H1(''),\n",
    "      html.H1(''), html.H1(''), html.H1(''), html.H1(''), html.H1(''), html.H1(''), html.H1('')],\n",
    "    style={'float': 'left','width': '13%','padding': '2px','outline': '4px solid black','backgroundColor':'Gainsboro'})"
   ]
  },
  {
   "cell_type": "code",
   "execution_count": 12,
   "id": "c6ef37ec",
   "metadata": {},
   "outputs": [],
   "source": [
    "app.layout = dbc.Container(\n",
    "    children=[\n",
    "        title,\n",
    "        html.Div(\n",
    "            children=[\n",
    "                menu, \n",
    "                graph\n",
    "            ],\n",
    "            style={'backgroundColor': 'black'}\n",
    "        )\n",
    "    ],\n",
    "    style={'backgroundColor': 'black'}\n",
    ")"
   ]
  },
  {
   "cell_type": "code",
   "execution_count": null,
   "id": "8671e7b0",
   "metadata": {},
   "outputs": [],
   "source": []
  },
  {
   "cell_type": "code",
   "execution_count": 13,
   "id": "3d6a7321",
   "metadata": {},
   "outputs": [],
   "source": [
    "@app.callback(\n",
    "    Output('iddropdown', 'options'),\n",
    "    Input('radiobutton','value')\n",
    ")\n",
    "\n",
    "def ubah_dropdown(data_filter):\n",
    "    if data_filter=='Month':\n",
    "        return [{'label':name,'value':name} for name in options_month]\n",
    "    if data_filter=='Size':\n",
    "        return [{'label':name,'value':name} for name in options_size]\n",
    "    if data_filter=='Hour':\n",
    "        return [{'label':name,'value':name} for name in options_hour]\n",
    "    if data_filter== 'Type':\n",
    "        return [{'label':name,'value':name} for name in options_type]"
   ]
  },
  {
   "cell_type": "code",
   "execution_count": 14,
   "id": "8b45267a",
   "metadata": {},
   "outputs": [],
   "source": [
    "@app.callback(\n",
    "    Output('example-graph1', 'figure'),\n",
    "    Output('example-graph2', 'figure'),\n",
    "    Output('example-graph3', 'figure'),\n",
    "    Output('example-graph4', 'figure'),\n",
    "    Output('example-graph5', 'figure'),\n",
    "    Output('example-graph6', 'figure'),\n",
    "    Input('radiobutton','value'),\n",
    "    Input('iddropdown','value')\n",
    ")\n",
    "    \n",
    "def filter_input(data_filter,input_filters):\n",
    "    filtered_data= data_merge.copy()\n",
    "    input_filters=input_filters or []\n",
    "    \n",
    "    if data_filter=='Month' and input_filters is not None:\n",
    "        filtered_data = filtered_data[filtered_data['bulan'].isin(input_filters)]\n",
    "    if data_filter=='Size'and input_filters is not None:\n",
    "        filtered_data = filtered_data[filtered_data['size'].isin(input_filters)]\n",
    "    if data_filter =='Hour'and input_filters is not None:\n",
    "        filtered_data = filtered_data[filtered_data['hours'].isin(input_filters)]\n",
    "    if data_filter == 'Type'and input_filters is not None:\n",
    "         filtered_data = filtered_data[filtered_data['pizza_type_id'].isin(input_filters)]\n",
    "        \n",
    "    fig1 = generate_chart(filtered_data, filtered_data['bulan'].unique(),\n",
    "                          filtered_data.groupby('bulan')['order_id'].count().reset_index()['order_id'], 'line')\n",
    "    fig1.update_layout(title={'text': \"Total Orders per Month\"})\n",
    "    fig2 = generate_chart(filtered_data, filtered_data['hours'].unique(),\n",
    "                          filtered_data.groupby('hours')['order_id'].count().reset_index()['order_id'], 'bar')\n",
    "    fig2.update_layout(title={'text': \"Total Orders per Hour\"})\n",
    "    fig3 = generate_chart(filtered_data, filtered_data['pizza_type_id'].unique(),\n",
    "                          filtered_data.groupby('pizza_type_id')['quantity'].sum().reset_index()['quantity'], 'bar')\n",
    "    fig3.update_layout(title={'text': \"Ranking Most of Popular Pizzas\"})\n",
    "    \n",
    "    fig4 = generate_chart(filtered_data,\n",
    "                          filtered_data.groupby('size')['revenue'].sum().reset_index()['revenue'], filtered_data['size'].unique(), 'pie')\n",
    "    fig4.update_layout(title={'text': \"Revenue Contribution by Pizza Sizes\"})\n",
    "    \n",
    "    fig5 = generate_chart(filtered_data, filtered_data['pizza_type_id'].unique(),\n",
    "                          filtered_data.groupby('pizza_type_id')['revenue'].sum().reset_index()['revenue'], 'bar')\n",
    "    fig5.update_layout(title={'text': \"Revenue Contribution by Pizza Types\"})\n",
    "    \n",
    "    fig6 = generate_chart(filtered_data, filtered_data['bulan'].unique(),\n",
    "                          filtered_data.groupby('bulan')['revenue'].sum().reset_index()['revenue'], 'bar')\n",
    "    fig6.update_layout(title={'text': \"Revenue Contribution by Pizza Types\"})\n",
    "    \n",
    "    return fig1, fig2, fig3, fig4, fig5, fig6"
   ]
  },
  {
   "cell_type": "code",
   "execution_count": null,
   "id": "fd6511f6",
   "metadata": {
    "scrolled": true
   },
   "outputs": [
    {
     "name": "stdout",
     "output_type": "stream",
     "text": [
      "Dash is running on http://127.0.0.1:4050/\n",
      "\n",
      " * Serving Flask app '__main__'\n",
      " * Debug mode: off\n"
     ]
    },
    {
     "name": "stderr",
     "output_type": "stream",
     "text": [
      "WARNING: This is a development server. Do not use it in a production deployment. Use a production WSGI server instead.\n",
      " * Running on http://127.0.0.1:4050\n",
      "Press CTRL+C to quit\n"
     ]
    }
   ],
   "source": [
    "app.run(port=4050)"
   ]
  }
 ],
 "metadata": {
  "kernelspec": {
   "display_name": "Python 3 (ipykernel)",
   "language": "python",
   "name": "python3"
  },
  "language_info": {
   "codemirror_mode": {
    "name": "ipython",
    "version": 3
   },
   "file_extension": ".py",
   "mimetype": "text/x-python",
   "name": "python",
   "nbconvert_exporter": "python",
   "pygments_lexer": "ipython3",
   "version": "3.10.9"
  }
 },
 "nbformat": 4,
 "nbformat_minor": 5
}
